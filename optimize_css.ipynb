{
 "cells": [
  {
   "cell_type": "code",
   "execution_count": 1,
   "metadata": {},
   "outputs": [],
   "source": [
    "# encoding=utf-8\n",
    "import os\n",
    "import re\n",
    "import time\n",
    "\n",
    "from tqdm import tqdm"
   ]
  },
  {
   "cell_type": "code",
   "execution_count": 2,
   "metadata": {},
   "outputs": [],
   "source": [
    "filename = 'web/index.html'"
   ]
  },
  {
   "cell_type": "code",
   "execution_count": 3,
   "metadata": {},
   "outputs": [],
   "source": [
    "inp_file = open(filename, encoding='utf-8')"
   ]
  },
  {
   "cell_type": "code",
   "execution_count": 24,
   "metadata": {},
   "outputs": [
    {
     "data": {
      "text/plain": [
       "'</head>\\n'"
      ]
     },
     "execution_count": 24,
     "metadata": {},
     "output_type": "execute_result"
    }
   ],
   "source": [
    "line = inp_file.readline()\n",
    "line"
   ]
  },
  {
   "cell_type": "code",
   "execution_count": 20,
   "metadata": {},
   "outputs": [
    {
     "data": {
      "text/plain": [
       "<re.Match object; span=(2, 8), match='<title'>"
      ]
     },
     "execution_count": 20,
     "metadata": {},
     "output_type": "execute_result"
    }
   ],
   "source": [
    "re.search(r'<\\w+', line)"
   ]
  },
  {
   "cell_type": "code",
   "execution_count": 25,
   "metadata": {},
   "outputs": [
    {
     "data": {
      "text/plain": [
       "[]"
      ]
     },
     "execution_count": 25,
     "metadata": {},
     "output_type": "execute_result"
    }
   ],
   "source": [
    "match_list = re.findall(r'<\\w+', line)\n",
    "match_list"
   ]
  },
  {
   "cell_type": "code",
   "execution_count": 26,
   "metadata": {},
   "outputs": [],
   "source": [
    "inp_file.close()"
   ]
  },
  {
   "cell_type": "code",
   "execution_count": 28,
   "metadata": {
    "scrolled": true
   },
   "outputs": [
    {
     "name": "stdout",
     "output_type": "stream",
     "text": [
      "<class 'str'> <html\n",
      "<class 'str'> <head\n",
      "<class 'str'> <meta\n",
      "<class 'str'> <title\n",
      "<class 'str'> <link\n",
      "<class 'str'> <body\n",
      "<class 'str'> <div\n",
      "<class 'str'> <div\n",
      "<class 'str'> <div\n",
      "<class 'str'> <div\n",
      "<class 'str'> <div\n",
      "<class 'str'> <div\n",
      "<class 'str'> <a\n",
      "<class 'str'> <div\n",
      "<class 'str'> <div\n",
      "<class 'str'> <a\n",
      "<class 'str'> <a\n",
      "<class 'str'> <a\n",
      "<class 'str'> <div\n",
      "<class 'str'> <div\n",
      "<class 'str'> <div\n",
      "<class 'str'> <div\n",
      "<class 'str'> <div\n",
      "<class 'str'> <div\n",
      "<class 'str'> <div\n",
      "<class 'str'> <div\n",
      "<class 'str'> <div\n",
      "<class 'str'> <div\n",
      "<class 'str'> <h3\n",
      "<class 'str'> <div\n",
      "<class 'str'> <div\n",
      "<class 'str'> <div\n",
      "<class 'str'> <div\n",
      "<class 'str'> <div\n",
      "<class 'str'> <h3\n",
      "<class 'str'> <div\n",
      "<class 'str'> <p\n",
      "<class 'str'> <span\n",
      "<class 'str'> <div\n",
      "<class 'str'> <div\n",
      "<class 'str'> <div\n",
      "<class 'str'> <div\n",
      "<class 'str'> <div\n",
      "<class 'str'> <div\n",
      "<class 'str'> <div\n",
      "<class 'str'> <img\n",
      "<class 'str'> <div\n",
      "<class 'str'> <div\n",
      "<class 'str'> <div\n",
      "<class 'str'> <div\n",
      "<class 'str'> <div\n",
      "<class 'str'> <h3\n",
      "<class 'str'> <div\n",
      "<class 'str'> <div\n",
      "<class 'str'> <div\n",
      "<class 'str'> <img\n",
      "<class 'str'> <p\n",
      "<class 'str'> <span\n",
      "<class 'str'> <p\n",
      "<class 'str'> <span\n",
      "<class 'str'> <p\n",
      "<class 'str'> <span\n",
      "<class 'str'> <p\n",
      "<class 'str'> <span\n",
      "<class 'str'> <div\n",
      "<class 'str'> <div\n",
      "<class 'str'> <div\n",
      "<class 'str'> <div\n",
      "<class 'str'> <h4\n",
      "<class 'str'> <div\n",
      "<class 'str'> <div\n",
      "<class 'str'> <ul\n",
      "<class 'str'> <li\n",
      "<class 'str'> <a\n",
      "<class 'str'> <i\n",
      "<class 'str'> <span\n",
      "<class 'str'> <li\n",
      "<class 'str'> <a\n",
      "<class 'str'> <i\n",
      "<class 'str'> <span\n",
      "<class 'str'> <div\n",
      "<class 'str'> <div\n",
      "<class 'str'> <div\n",
      "<class 'str'> <div\n",
      "<class 'str'> <div\n",
      "<class 'str'> <span\n",
      "<class 'str'> <span\n",
      "<class 'str'> <span\n",
      "<class 'str'> <span\n",
      "<class 'str'> <span\n",
      "<class 'str'> <span\n"
     ]
    }
   ],
   "source": [
    "with open(filename, encoding='utf-8') as inp_file:\n",
    "        for line in inp_file:\n",
    "            match_list = re.findall(r'<\\w+', line)\n",
    "            for m in match_list:\n",
    "                print(type(m), m)"
   ]
  },
  {
   "cell_type": "code",
   "execution_count": null,
   "metadata": {},
   "outputs": [],
   "source": [
    "with open(filename, encoding='utf-8') as inp_file:\n",
    "        for line in inp_file:\n",
    "            match_list = re.findall(r'<\\w+', line)\n",
    "            for m in match_list:\n",
    "                print(type(m), m)"
   ]
  },
  {
   "cell_type": "code",
   "execution_count": 30,
   "metadata": {},
   "outputs": [],
   "source": [
    "line = '<h4 class=\"item-title map-page-title\">Address and contact:</h4>'"
   ]
  },
  {
   "cell_type": "code",
   "execution_count": 42,
   "metadata": {},
   "outputs": [
    {
     "data": {
      "text/plain": [
       "<re.Match object; span=(4, 37), match='class=\"item-title map-page-title\"'>"
      ]
     },
     "execution_count": 42,
     "metadata": {},
     "output_type": "execute_result"
    }
   ],
   "source": [
    "re.search(r'class=\"[\\w\\-\\s]+\"', line)"
   ]
  },
  {
   "cell_type": "code",
   "execution_count": 43,
   "metadata": {
    "scrolled": true
   },
   "outputs": [
    {
     "name": "stdout",
     "output_type": "stream",
     "text": [
      "<class 'str'> class=\"site-wrapper\"\n",
      "<class 'str'> class=\" header-wrapper\"\n",
      "<class 'str'> class=\"container\"\n",
      "<class 'str'> class=\"title-wrapper\"\n",
      "<class 'str'> class=\"title-wrapper-inner\"\n",
      "<class 'str'> class=\"title\"\n",
      "<class 'str'> class=\"title title-link\"\n",
      "<class 'str'> class=\"subtitle\"\n",
      "<class 'str'> class=\"navbar\"\n",
      "<class 'str'> class=\"active\"\n",
      "<class 'str'> class=\"content-wrapper\"\n",
      "<class 'str'> class=\"container\"\n",
      "<class 'str'> class=\"span9\"\n",
      "<class 'str'> class=\"wrapper\"\n",
      "<class 'str'> class=\"content\"\n",
      "<class 'str'> class=\"row-fluid layout5-row margins-topbottom padding-all\"\n",
      "<class 'str'> class=\"sections-wrapper\"\n",
      "<class 'str'> class=\"span12\"\n",
      "<class 'str'> class=\"section article margins-on\"\n",
      "<class 'str'> class=\"heading wordwrapfix\"\n",
      "<class 'str'> class=\"row-fluid layout5-row margins-topbottom padding-all\"\n",
      "<class 'str'> class=\"sections-wrapper\"\n",
      "<class 'str'> class=\"span12\"\n",
      "<class 'str'> class=\"section article margins-on\"\n",
      "<class 'str'> class=\"heading wordwrapfix\"\n",
      "<class 'str'> class=\"content\"\n",
      "<class 'str'> class=\"row-fluid layout5-row margins-topbottom padding-all\"\n",
      "<class 'str'> class=\"sections-wrapper\"\n",
      "<class 'str'> class=\"span12\"\n",
      "<class 'str'> class=\"section article margins-on\"\n",
      "<class 'str'> class=\"content\"\n",
      "<class 'str'> class=\"img-simple span12\"\n",
      "<class 'str'> class=\"image\"\n",
      "<class 'str'> class=\"row-fluid layout5-row margins-topbottom padding-all\"\n",
      "<class 'str'> class=\"sections-wrapper\"\n",
      "<class 'str'> class=\"span12\"\n",
      "<class 'str'> class=\"section article margins-on\"\n",
      "<class 'str'> class=\"heading wordwrapfix\"\n",
      "<class 'str'> class=\"content\"\n",
      "<class 'str'> class=\"img-simple span6 pull-left\"\n",
      "<class 'str'> class=\"image\"\n",
      "<class 'str'> class=\"span3\"\n",
      "<class 'str'> class=\"sidebar\"\n",
      "<class 'str'> class=\"wrapper share-box\"\n",
      "<class 'str'> class=\"heading wordwrapfix\"\n",
      "<class 'str'> class=\"content\"\n",
      "<class 'str'> class=\"icon-facebook-sign\"\n",
      "<class 'str'> class=\"icon-twitter-sign\"\n",
      "<class 'str'> class=\" footer-wrapper\"\n",
      "<class 'str'> class=\"container\"\n",
      "<class 'str'> class=\"footer-info\"\n",
      "<class 'str'> class=\"footer-info-text\"\n",
      "<class 'str'> class=\"footer-page-counter\"\n",
      "<class 'str'> class=\"footer-page-counter-item\"\n",
      "<class 'str'> class=\"footer-page-counter-item\"\n",
      "<class 'str'> class=\"footer-page-counter-item\"\n",
      "<class 'str'> class=\"footer-page-counter-item\"\n",
      "<class 'str'> class=\"footer-page-counter-item\"\n",
      "<class 'str'> class=\"footer-page-counter-item\"\n"
     ]
    }
   ],
   "source": [
    "with open(filename, encoding='utf-8') as inp_file:\n",
    "        for line in inp_file:\n",
    "            match_list = re.findall(r'class=\"[\\w\\-\\s]+\"', line)\n",
    "            for m in match_list:\n",
    "                print(type(m), m)"
   ]
  },
  {
   "cell_type": "code",
   "execution_count": 44,
   "metadata": {},
   "outputs": [
    {
     "data": {
      "text/plain": [
       "'.footer-wrapper .footer-page-counter .footer-page-counter-item::before {\\n    content: \"\";\\n    display: block;\\n    height: 1px;\\n    position: absolute;\\n    top: 52%;\\n    left: 0;\\n    margin-top: -1px;\\n    background: rgba(0, 0, 0, .25);\\n    width: 100%;\\n}'"
      ]
     },
     "execution_count": 44,
     "metadata": {},
     "output_type": "execute_result"
    }
   ],
   "source": [
    "sample_css = \"\"\".footer-wrapper .footer-page-counter .footer-page-counter-item::before {\n",
    "    content: \"\";\n",
    "    display: block;\n",
    "    height: 1px;\n",
    "    position: absolute;\n",
    "    top: 52%;\n",
    "    left: 0;\n",
    "    margin-top: -1px;\n",
    "    background: rgba(0, 0, 0, .25);\n",
    "    width: 100%;\n",
    "}\"\"\"\n",
    "sample_css"
   ]
  },
  {
   "cell_type": "code",
   "execution_count": 46,
   "metadata": {
    "scrolled": true
   },
   "outputs": [
    {
     "data": {
      "text/plain": [
       "<re.Match object; span=(0, 15), match='.footer-wrapper'>"
      ]
     },
     "execution_count": 46,
     "metadata": {},
     "output_type": "execute_result"
    }
   ],
   "source": [
    "re.search(r'\\.[\\w\\-]+', sample_css)"
   ]
  },
  {
   "cell_type": "code",
   "execution_count": 54,
   "metadata": {
    "scrolled": true
   },
   "outputs": [
    {
     "name": "stdout",
     "output_type": "stream",
     "text": [
      "('r {', 'r')\n",
      "('r {', 'r')\n",
      "('r {', 'r')\n",
      "('r {', 'r')\n",
      "('e {', 'e')\n",
      "('e {', 'e')\n",
      "('e {', 'e')\n",
      "('r {', 'r')\n",
      "('r {', 'r')\n",
      "(' a {', 'a')\n",
      "('e {', 'e')\n",
      "('r {', 'r')\n",
      "('r {', 'r')\n",
      "('>div {', 'v')\n",
      "('9 {', '9')\n",
      "('3 {', '3')\n",
      "(' h4 {', '4')\n",
      "(' h6 {', '6')\n",
      "(' h1 {', '1')\n",
      "(' h4 {', '4')\n",
      "('g {', 'g')\n",
      "('e {', 'e')\n",
      "('m {', 'm')\n",
      "('m {', 'm')\n",
      "('r {', 'r')\n",
      "('s {', 's')\n",
      "('s {', 's')\n",
      "('g {', 'g')\n",
      "(' h4 {', '4')\n",
      "(' h4 a {', 'a')\n",
      "('6 {', '6')\n",
      "('e {', 'e')\n",
      "('t {', 't')\n",
      "('e {', 'e')\n",
      "('n {', 'n')\n",
      "('t {', 't')\n",
      "(' small {', 'l')\n",
      "('r {', 'r')\n",
      "('>li {', 'i')\n",
      "('>li>a {', 'a')\n",
      "('r {', 'r')\n",
      "('g {', 'g')\n",
      "('t {', 't')\n",
      "('t {', 't')\n",
      "(' ul {', 'l')\n",
      "(' a {', 'a')\n",
      "(' ul>li>a>i {', 'i')\n",
      "('r {', 'r')\n",
      "('r {', 'r')\n",
      "('o {', 'o')\n",
      "('r {', 'r')\n",
      "('m {', 'm')\n",
      "('d {', 'd')\n",
      "('l {', 'l')\n",
      "('m {', 'm')\n",
      "('2 {', '2')\n",
      "('n {', 'n')\n",
      "('g {', 'g')\n",
      "(' h3 {', '3')\n",
      "('x {', 'x')\n",
      "('t {', 't')\n",
      "('n {', 'n')\n",
      "('t {', 't')\n",
      "('t {', 't')\n",
      "('e {', 'e')\n",
      "(' thead th {', 'h')\n",
      "(' th {', 'h')\n",
      "('t {', 't')\n",
      "('r {', 'r')\n",
      "('r {', 'r')\n",
      "('n {', 'n')\n",
      "('m {', 'm')\n",
      "('s {', 's')\n",
      "('n {', 'n')\n",
      "('o {', 'o')\n",
      "('y {', 'y')\n"
     ]
    }
   ],
   "source": [
    "filename = 'web/css/index.css'\n",
    "with open(filename, encoding='utf-8') as inp_file:\n",
    "        for line in inp_file:\n",
    "            match_list = re.findall(r'\\.[\\w\\-]+(?=(([\\w\\s>])+?\\s+{))', line)\n",
    "            for m in match_list:\n",
    "                print(m)"
   ]
  },
  {
   "cell_type": "code",
   "execution_count": 55,
   "metadata": {},
   "outputs": [
    {
     "name": "stdout",
     "output_type": "stream",
     "text": [
      "Collecting tinycss\n",
      "  Downloading https://files.pythonhosted.org/packages/05/59/af583fff6236c7d2f94f8175c40ce501dcefb8d1b42e4bb7a2622dff689e/tinycss-0.4.tar.gz (87kB)\n",
      "Building wheels for collected packages: tinycss\n",
      "  Building wheel for tinycss (setup.py): started\n",
      "  Building wheel for tinycss (setup.py): finished with status 'done'\n",
      "  Stored in directory: C:\\Users\\SHIOKO\\AppData\\Local\\pip\\Cache\\wheels\\1b\\26\\08\\7390b2e6d5eb3403ef35647f09576459ca567d00ac725307d5\n",
      "Successfully built tinycss\n",
      "Installing collected packages: tinycss\n",
      "Successfully installed tinycss-0.4\n"
     ]
    },
    {
     "name": "stderr",
     "output_type": "stream",
     "text": [
      "You are using pip version 19.0.3, however version 19.1.1 is available.\n",
      "You should consider upgrading via the 'python -m pip install --upgrade pip' command.\n"
     ]
    }
   ],
   "source": [
    "!pip install tinycss"
   ]
  },
  {
   "cell_type": "code",
   "execution_count": 56,
   "metadata": {},
   "outputs": [],
   "source": [
    "import tinycss"
   ]
  },
  {
   "cell_type": "code",
   "execution_count": null,
   "metadata": {},
   "outputs": [],
   "source": [
    "parser = tinycss.make_parser()"
   ]
  },
  {
   "cell_type": "code",
   "execution_count": 57,
   "metadata": {},
   "outputs": [
    {
     "name": "stdout",
     "output_type": "stream",
     "text": [
      "Collecting cssutils\n",
      "  Downloading https://files.pythonhosted.org/packages/6b/15/a9fb9010f58d1c55dd0b7779db2334feb9a572d407024f39a60f44293861/cssutils-1.0.2-py3-none-any.whl (406kB)\n",
      "Installing collected packages: cssutils\n",
      "Successfully installed cssutils-1.0.2\n"
     ]
    },
    {
     "name": "stderr",
     "output_type": "stream",
     "text": [
      "You are using pip version 19.0.3, however version 19.1.1 is available.\n",
      "You should consider upgrading via the 'python -m pip install --upgrade pip' command.\n"
     ]
    }
   ],
   "source": [
    "!pip install cssutils"
   ]
  },
  {
   "cell_type": "code",
   "execution_count": 58,
   "metadata": {},
   "outputs": [],
   "source": [
    "import cssutils"
   ]
  },
  {
   "cell_type": "code",
   "execution_count": 60,
   "metadata": {},
   "outputs": [],
   "source": [
    "sheet = cssutils.parseString(sample_css)"
   ]
  },
  {
   "cell_type": "code",
   "execution_count": 61,
   "metadata": {},
   "outputs": [
    {
     "data": {
      "text/plain": [
       "cssutils.css.cssstylesheet.CSSStyleSheet"
      ]
     },
     "execution_count": 61,
     "metadata": {},
     "output_type": "execute_result"
    }
   ],
   "source": [
    "type(sheet)"
   ]
  },
  {
   "cell_type": "code",
   "execution_count": 62,
   "metadata": {},
   "outputs": [
    {
     "name": "stdout",
     "output_type": "stream",
     "text": [
      "<cssutils.css.CSSStyleRule object selectorText='.footer-wrapper .footer-page-counter .footer-page-counter-item::before' style='content: \"\";\\ndisplay: block;\\nheight: 1px;\\nposition: absolute;\\ntop: 52%;\\nleft: 0;\\nmargin-top: -1px;\\nbackground: rgba(0, 0, 0, 0.25);\\nwidth: 100%' _namespaces={} at 0x1d574aee7f0>\n"
     ]
    }
   ],
   "source": [
    "for rule in sheet:\n",
    "    print(rule)"
   ]
  },
  {
   "cell_type": "code",
   "execution_count": 64,
   "metadata": {},
   "outputs": [
    {
     "data": {
      "text/plain": [
       "cssutils.css.cssstylerule.CSSStyleRule"
      ]
     },
     "execution_count": 64,
     "metadata": {},
     "output_type": "execute_result"
    }
   ],
   "source": [
    "type(rule)"
   ]
  },
  {
   "cell_type": "code",
   "execution_count": 66,
   "metadata": {},
   "outputs": [
    {
     "data": {
      "text/plain": [
       "cssutils.css.SelectorList(selectorText='.footer-wrapper .footer-page-counter .footer-page-counter-item::before')"
      ]
     },
     "execution_count": 66,
     "metadata": {},
     "output_type": "execute_result"
    }
   ],
   "source": [
    "rule.selectorList"
   ]
  },
  {
   "cell_type": "code",
   "execution_count": 67,
   "metadata": {},
   "outputs": [
    {
     "data": {
      "text/plain": [
       "cssutils.css.SelectorList(selectorText='.footer-wrapper .footer-page-counter .footer-page-counter-item::before')"
      ]
     },
     "execution_count": 67,
     "metadata": {},
     "output_type": "execute_result"
    }
   ],
   "source": [
    "selector_list = rule.selectorList\n",
    "selector_list"
   ]
  },
  {
   "cell_type": "code",
   "execution_count": 71,
   "metadata": {},
   "outputs": [
    {
     "data": {
      "text/plain": [
       "'.footer-wrapper .footer-page-counter .footer-page-counter-item::before'"
      ]
     },
     "execution_count": 71,
     "metadata": {},
     "output_type": "execute_result"
    }
   ],
   "source": [
    "selector_list.selectorText"
   ]
  },
  {
   "cell_type": "markdown",
   "metadata": {},
   "source": [
    "## Find all classes and tags in css file"
   ]
  },
  {
   "cell_type": "code",
   "execution_count": 77,
   "metadata": {},
   "outputs": [
    {
     "name": "stderr",
     "output_type": "stream",
     "text": [
      "ERROR\tProperty: Invalid value for \"CSS Level 2.1\" property: initial [78:5: letter-spacing]\n",
      "ERROR\tProperty: Invalid value for \"CSS Level 2.1\" property: scoll [84:5: background-attachment]\n",
      "WARNING\tProperty: Unknown Property name. [85:5: background-size]\n",
      "WARNING\tProperty: Unknown Property name. [349:5: margin-block-start]\n",
      "WARNING\tProperty: Unknown Property name. [350:5: margin-block-end]\n",
      "WARNING\tProperty: Unknown Property name. [351:5: margin-inline-start]\n",
      "WARNING\tProperty: Unknown Property name. [352:5: margin-inline-end]\n",
      "WARNING\tProperty: Unknown Property name. [570:5: word-wrap]\n"
     ]
    },
    {
     "name": "stdout",
     "output_type": "stream",
     "text": [
      "[class^=icon-], [class*=\" icon-\"]\n",
      "[class^=icon-]::before, [class*=\" icon-\"]::before\n",
      "a [class^=icon-]\n",
      ".icon-pencil::before\n",
      ".icon-camera-retro::before\n",
      ".icon-quote-left::before\n",
      ".icon-facebook-sign::before\n",
      ".icon-twitter-sign::before\n",
      ".icon-comment::before\n",
      ".icon-thumbs-up::before\n",
      ".blog .avatar [class^=icon-], .blog .avatar [class*=\" icon-\"], .blog-post .avatar [class^=icon-]\n",
      "body\n",
      ".site-wrapper\n",
      ".header-wrapper\n",
      ".container\n",
      ".container::before .container::after\n",
      ".title-wrapper\n",
      ".header-wrapper .title-wrapper .title\n",
      ".header-wrapper .title-wrapper .subtitle\n",
      "a.title\n",
      "a.title:hover\n",
      ".header-wrapper .navbar\n",
      ".navbar\n",
      ".navbar a\n",
      ".navbar a:hover\n",
      ".navbar a.active\n",
      ".content-wrapper\n",
      ".content-wrapper > .container\n",
      ".content-wrapper > .container > div\n",
      ".span9\n",
      ".span3\n",
      "#left\n",
      "#right\n",
      ".wrapper > .heading h4, .section > .heading h4, .sidebar .wrapper > .heading h4, .sidebar .section > .heading h4\n",
      ".wrapper > .heading h1, .section > .heading h1, .item > .heading h1, .sidebar .wrapper > .heading h1, .sidebar .section > .heading h1, .wrapper > .heading h2, .section > .heading h2, .item > .heading h2, .sidebar .wrapper > .heading h2, .sidebar .section > .heading h2, .wrapper > .heading h3, .section > .heading h3, .item > .heading h3, .sidebar .wrapper > .heading h3, .sidebar .section > .heading h3, .wrapper > .heading h4, .section > .heading h4, .item > .heading h4, .sidebar .wrapper > .heading h4, .sidebar .section > .heading h4, .wrapper > .heading h5, .section > .heading h5, .item > .heading h5, .sidebar .wrapper > .heading h5, .sidebar .section > .heading h5, .wrapper > .heading h6, .section > .heading h6, .item > .heading h6, .sidebar .wrapper > .heading h6, .sidebar .section > .heading h6\n",
      ".wrapper > .heading h1\n",
      ".item > .heading h4\n",
      ".wrapper > .heading\n",
      ".page-title\n",
      ".blog .avatar + .item\n",
      ".item\n",
      ".avatar\n",
      ".controls\n",
      ".item > .controls\n",
      ".item > .heading\n",
      ".item > .heading h4\n",
      ".item > .heading h4 a\n",
      ".span6\n",
      "img\n",
      "div.img-simple\n",
      "div.img-simple.pull-left\n",
      "div.img-simple .image\n",
      "p\n",
      ".section\n",
      "blockquote\n",
      "blockquote.pull-right\n",
      "blockquote.pull-right p, blockquote.pull-right small\n",
      "blockquote p\n",
      "blockquote small\n",
      "blockquote > small > cite\n",
      "blockquote.pull-right small::after\n",
      ".wrapper > .content > :last-child, .section > .content > :last-child, .item > .content > :last-child, .sidebar .wrapper > .content > :last-child, .sidebar .section > .content > :last-child\n",
      "ul.pager\n",
      "ul.pager > li\n",
      "li\n",
      "ul.pager > li > a\n",
      ".sidebar .wrapper\n",
      ".sidebar .wrapper > .heading\n",
      ".sidebar .wrapper > .content\n",
      ".sidebar .wrapper > .heading + .content\n",
      ".sidebar .share-box ul\n",
      ".content-wrapper a, .sidebar a\n",
      ".sidebar .share-box ul > li > a > i\n",
      ".sidebar .share-box ul > li i + span\n",
      ".footer-wrapper\n",
      ".footer-wrapper > .container\n",
      ".footer-wrapper .footer-info\n",
      ".footer-wrapper .footer-page-counter\n",
      ".footer-wrapper .footer-page-counter .footer-page-counter-item\n",
      ".footer-wrapper .footer-page-counter .footer-page-counter-item::before\n",
      ".row-fluid [class*=\"span\"]\n",
      ".row-fluid [class*=\"span\"]:first-child\n",
      "body .wrapper .content .row-fluid\n",
      "body .wrapper .content .row-fluid.padding-all\n",
      "body .row-fluid.margins-topbottom\n",
      ".row-fluid .span12\n",
      "body .section.margins-on\n",
      ".section > .heading\n",
      "h3\n",
      ".section > .heading h3\n",
      "p > span\n",
      ".wordwrapfix\n",
      ".section:first-child > .heading + .content\n",
      ".section:last-child\n",
      ".signature .signature-text-noimg .signature-sign\n",
      ".wrapper > .heading + .content\n",
      ".wrapper > .content\n",
      ".section:first-child\n",
      "table\n",
      ".table\n",
      ".table thead th\n",
      ".table th\n",
      ".table th, table td\n",
      ".table th.align-right, .table td.align-right\n",
      ".wrapper > .content > .avatar\n",
      ".blog .avatar, .blog-post .avatar\n",
      "body .content-wrapper .wrapper > .content:first-child\n",
      ".blog .avatar + .section, .blog-post .avatar + .section\n",
      ".avatar:first-child + .wrapper, .avatar:first-child + .section, .avatar:first-child + .item\n",
      ".section > .controls\n",
      ".blogoverview .section\n",
      ".map-page .map-page-info\n",
      ".map-page .map-page-info .country\n"
     ]
    }
   ],
   "source": [
    "selector_list = []\n",
    "css_filename = 'web/css/index.css'\n",
    "sheet = cssutils.parseFile(css_filename)\n",
    "for rule in sheet:\n",
    "    if isinstance(rule, cssutils.css.cssstylerule.CSSStyleRule):\n",
    "        selector_text = rule.selectorList.selectorText\n",
    "        selector_list.append(selector_text)\n",
    "        print(selector_text)"
   ]
  },
  {
   "cell_type": "code",
   "execution_count": 73,
   "metadata": {},
   "outputs": [
    {
     "data": {
      "text/plain": [
       "cssutils.css.CSSFontFaceRule(style='font-family: \"Alegreya Sans\";\\nfont-style: normal;\\nfont-weight: 500;\\nsrc: local(\"Alegreya Sans Medium\"), local(\"AlegreyaSans-Medium\"), url(../fonts/alegreyasans.woff2) format(\"woff2\")')"
      ]
     },
     "execution_count": 73,
     "metadata": {},
     "output_type": "execute_result"
    }
   ],
   "source": [
    "rule"
   ]
  },
  {
   "cell_type": "code",
   "execution_count": 78,
   "metadata": {},
   "outputs": [
    {
     "data": {
      "text/plain": [
       "['[class^=icon-], [class*=\" icon-\"]',\n",
       " '[class^=icon-]::before, [class*=\" icon-\"]::before',\n",
       " 'a [class^=icon-]',\n",
       " '.icon-pencil::before',\n",
       " '.icon-camera-retro::before',\n",
       " '.icon-quote-left::before',\n",
       " '.icon-facebook-sign::before',\n",
       " '.icon-twitter-sign::before',\n",
       " '.icon-comment::before',\n",
       " '.icon-thumbs-up::before',\n",
       " '.blog .avatar [class^=icon-], .blog .avatar [class*=\" icon-\"], .blog-post .avatar [class^=icon-]',\n",
       " 'body',\n",
       " '.site-wrapper',\n",
       " '.header-wrapper',\n",
       " '.container',\n",
       " '.container::before .container::after',\n",
       " '.title-wrapper',\n",
       " '.header-wrapper .title-wrapper .title',\n",
       " '.header-wrapper .title-wrapper .subtitle',\n",
       " 'a.title',\n",
       " 'a.title:hover',\n",
       " '.header-wrapper .navbar',\n",
       " '.navbar',\n",
       " '.navbar a',\n",
       " '.navbar a:hover',\n",
       " '.navbar a.active',\n",
       " '.content-wrapper',\n",
       " '.content-wrapper > .container',\n",
       " '.content-wrapper > .container > div',\n",
       " '.span9',\n",
       " '.span3',\n",
       " '#left',\n",
       " '#right',\n",
       " '.wrapper > .heading h4, .section > .heading h4, .sidebar .wrapper > .heading h4, .sidebar .section > .heading h4',\n",
       " '.wrapper > .heading h1, .section > .heading h1, .item > .heading h1, .sidebar .wrapper > .heading h1, .sidebar .section > .heading h1, .wrapper > .heading h2, .section > .heading h2, .item > .heading h2, .sidebar .wrapper > .heading h2, .sidebar .section > .heading h2, .wrapper > .heading h3, .section > .heading h3, .item > .heading h3, .sidebar .wrapper > .heading h3, .sidebar .section > .heading h3, .wrapper > .heading h4, .section > .heading h4, .item > .heading h4, .sidebar .wrapper > .heading h4, .sidebar .section > .heading h4, .wrapper > .heading h5, .section > .heading h5, .item > .heading h5, .sidebar .wrapper > .heading h5, .sidebar .section > .heading h5, .wrapper > .heading h6, .section > .heading h6, .item > .heading h6, .sidebar .wrapper > .heading h6, .sidebar .section > .heading h6',\n",
       " '.wrapper > .heading h1',\n",
       " '.item > .heading h4',\n",
       " '.wrapper > .heading',\n",
       " '.page-title',\n",
       " '.blog .avatar + .item',\n",
       " '.item',\n",
       " '.avatar',\n",
       " '.controls',\n",
       " '.item > .controls',\n",
       " '.item > .heading',\n",
       " '.item > .heading h4',\n",
       " '.item > .heading h4 a',\n",
       " '.span6',\n",
       " 'img',\n",
       " 'div.img-simple',\n",
       " 'div.img-simple.pull-left',\n",
       " 'div.img-simple .image',\n",
       " 'p',\n",
       " '.section',\n",
       " 'blockquote',\n",
       " 'blockquote.pull-right',\n",
       " 'blockquote.pull-right p, blockquote.pull-right small',\n",
       " 'blockquote p',\n",
       " 'blockquote small',\n",
       " 'blockquote > small > cite',\n",
       " 'blockquote.pull-right small::after',\n",
       " '.wrapper > .content > :last-child, .section > .content > :last-child, .item > .content > :last-child, .sidebar .wrapper > .content > :last-child, .sidebar .section > .content > :last-child',\n",
       " 'ul.pager',\n",
       " 'ul.pager > li',\n",
       " 'li',\n",
       " 'ul.pager > li > a',\n",
       " '.sidebar .wrapper',\n",
       " '.sidebar .wrapper > .heading',\n",
       " '.sidebar .wrapper > .content',\n",
       " '.sidebar .wrapper > .heading + .content',\n",
       " '.sidebar .share-box ul',\n",
       " '.content-wrapper a, .sidebar a',\n",
       " '.sidebar .share-box ul > li > a > i',\n",
       " '.sidebar .share-box ul > li i + span',\n",
       " '.footer-wrapper',\n",
       " '.footer-wrapper > .container',\n",
       " '.footer-wrapper .footer-info',\n",
       " '.footer-wrapper .footer-page-counter',\n",
       " '.footer-wrapper .footer-page-counter .footer-page-counter-item',\n",
       " '.footer-wrapper .footer-page-counter .footer-page-counter-item::before',\n",
       " '.row-fluid [class*=\"span\"]',\n",
       " '.row-fluid [class*=\"span\"]:first-child',\n",
       " 'body .wrapper .content .row-fluid',\n",
       " 'body .wrapper .content .row-fluid.padding-all',\n",
       " 'body .row-fluid.margins-topbottom',\n",
       " '.row-fluid .span12',\n",
       " 'body .section.margins-on',\n",
       " '.section > .heading',\n",
       " 'h3',\n",
       " '.section > .heading h3',\n",
       " 'p > span',\n",
       " '.wordwrapfix',\n",
       " '.section:first-child > .heading + .content',\n",
       " '.section:last-child',\n",
       " '.signature .signature-text-noimg .signature-sign',\n",
       " '.wrapper > .heading + .content',\n",
       " '.wrapper > .content',\n",
       " '.section:first-child',\n",
       " 'table',\n",
       " '.table',\n",
       " '.table thead th',\n",
       " '.table th',\n",
       " '.table th, table td',\n",
       " '.table th.align-right, .table td.align-right',\n",
       " '.wrapper > .content > .avatar',\n",
       " '.blog .avatar, .blog-post .avatar',\n",
       " 'body .content-wrapper .wrapper > .content:first-child',\n",
       " '.blog .avatar + .section, .blog-post .avatar + .section',\n",
       " '.avatar:first-child + .wrapper, .avatar:first-child + .section, .avatar:first-child + .item',\n",
       " '.section > .controls',\n",
       " '.blogoverview .section',\n",
       " '.map-page .map-page-info',\n",
       " '.map-page .map-page-info .country']"
      ]
     },
     "execution_count": 78,
     "metadata": {},
     "output_type": "execute_result"
    }
   ],
   "source": [
    "selector_list"
   ]
  },
  {
   "cell_type": "markdown",
   "metadata": {},
   "source": [
    "### Find all classes from selector list"
   ]
  },
  {
   "cell_type": "code",
   "execution_count": 79,
   "metadata": {},
   "outputs": [
    {
     "name": "stdout",
     "output_type": "stream",
     "text": [
      ".icon-pencil\n",
      ".icon-camera-retro\n",
      ".icon-quote-left\n",
      ".icon-facebook-sign\n",
      ".icon-twitter-sign\n",
      ".icon-comment\n",
      ".icon-thumbs-up\n",
      ".blog\n",
      ".avatar\n",
      ".blog\n",
      ".avatar\n",
      ".blog-post\n",
      ".avatar\n",
      ".site-wrapper\n",
      ".header-wrapper\n",
      ".container\n",
      ".container\n",
      ".container\n",
      ".title-wrapper\n",
      ".header-wrapper\n",
      ".title-wrapper\n",
      ".title\n",
      ".header-wrapper\n",
      ".title-wrapper\n",
      ".subtitle\n",
      ".title\n",
      ".title\n",
      ".header-wrapper\n",
      ".navbar\n",
      ".navbar\n",
      ".navbar\n",
      ".navbar\n",
      ".navbar\n",
      ".active\n",
      ".content-wrapper\n",
      ".content-wrapper\n",
      ".container\n",
      ".content-wrapper\n",
      ".container\n",
      ".span9\n",
      ".span3\n",
      ".wrapper\n",
      ".heading\n",
      ".section\n",
      ".heading\n",
      ".sidebar\n",
      ".wrapper\n",
      ".heading\n",
      ".sidebar\n",
      ".section\n",
      ".heading\n",
      ".wrapper\n",
      ".heading\n",
      ".section\n",
      ".heading\n",
      ".item\n",
      ".heading\n",
      ".sidebar\n",
      ".wrapper\n",
      ".heading\n",
      ".sidebar\n",
      ".section\n",
      ".heading\n",
      ".wrapper\n",
      ".heading\n",
      ".section\n",
      ".heading\n",
      ".item\n",
      ".heading\n",
      ".sidebar\n",
      ".wrapper\n",
      ".heading\n",
      ".sidebar\n",
      ".section\n",
      ".heading\n",
      ".wrapper\n",
      ".heading\n",
      ".section\n",
      ".heading\n",
      ".item\n",
      ".heading\n",
      ".sidebar\n",
      ".wrapper\n",
      ".heading\n",
      ".sidebar\n",
      ".section\n",
      ".heading\n",
      ".wrapper\n",
      ".heading\n",
      ".section\n",
      ".heading\n",
      ".item\n",
      ".heading\n",
      ".sidebar\n",
      ".wrapper\n",
      ".heading\n",
      ".sidebar\n",
      ".section\n",
      ".heading\n",
      ".wrapper\n",
      ".heading\n",
      ".section\n",
      ".heading\n",
      ".item\n",
      ".heading\n",
      ".sidebar\n",
      ".wrapper\n",
      ".heading\n",
      ".sidebar\n",
      ".section\n",
      ".heading\n",
      ".wrapper\n",
      ".heading\n",
      ".section\n",
      ".heading\n",
      ".item\n",
      ".heading\n",
      ".sidebar\n",
      ".wrapper\n",
      ".heading\n",
      ".sidebar\n",
      ".section\n",
      ".heading\n",
      ".wrapper\n",
      ".heading\n",
      ".item\n",
      ".heading\n",
      ".wrapper\n",
      ".heading\n",
      ".page-title\n",
      ".blog\n",
      ".avatar\n",
      ".item\n",
      ".item\n",
      ".avatar\n",
      ".controls\n",
      ".item\n",
      ".controls\n",
      ".item\n",
      ".heading\n",
      ".item\n",
      ".heading\n",
      ".item\n",
      ".heading\n",
      ".span6\n",
      ".img-simple\n",
      ".img-simple\n",
      ".pull-left\n",
      ".img-simple\n",
      ".image\n",
      ".section\n",
      ".pull-right\n",
      ".pull-right\n",
      ".pull-right\n",
      ".pull-right\n",
      ".wrapper\n",
      ".content\n",
      ".section\n",
      ".content\n",
      ".item\n",
      ".content\n",
      ".sidebar\n",
      ".wrapper\n",
      ".content\n",
      ".sidebar\n",
      ".section\n",
      ".content\n",
      ".pager\n",
      ".pager\n",
      ".pager\n",
      ".sidebar\n",
      ".wrapper\n",
      ".sidebar\n",
      ".wrapper\n",
      ".heading\n",
      ".sidebar\n",
      ".wrapper\n",
      ".content\n",
      ".sidebar\n",
      ".wrapper\n",
      ".heading\n",
      ".content\n",
      ".sidebar\n",
      ".share-box\n",
      ".content-wrapper\n",
      ".sidebar\n",
      ".sidebar\n",
      ".share-box\n",
      ".sidebar\n",
      ".share-box\n",
      ".footer-wrapper\n",
      ".footer-wrapper\n",
      ".container\n",
      ".footer-wrapper\n",
      ".footer-info\n",
      ".footer-wrapper\n",
      ".footer-page-counter\n",
      ".footer-wrapper\n",
      ".footer-page-counter\n",
      ".footer-page-counter-item\n",
      ".footer-wrapper\n",
      ".footer-page-counter\n",
      ".footer-page-counter-item\n",
      ".row-fluid\n",
      ".row-fluid\n",
      ".wrapper\n",
      ".content\n",
      ".row-fluid\n",
      ".wrapper\n",
      ".content\n",
      ".row-fluid\n",
      ".padding-all\n",
      ".row-fluid\n",
      ".margins-topbottom\n",
      ".row-fluid\n",
      ".span12\n",
      ".section\n",
      ".margins-on\n",
      ".section\n",
      ".heading\n",
      ".section\n",
      ".heading\n",
      ".wordwrapfix\n",
      ".section\n",
      ".heading\n",
      ".content\n",
      ".section\n",
      ".signature\n",
      ".signature-text-noimg\n",
      ".signature-sign\n",
      ".wrapper\n",
      ".heading\n",
      ".content\n",
      ".wrapper\n",
      ".content\n",
      ".section\n",
      ".table\n",
      ".table\n",
      ".table\n",
      ".table\n",
      ".table\n",
      ".align-right\n",
      ".table\n",
      ".align-right\n",
      ".wrapper\n",
      ".content\n",
      ".avatar\n",
      ".blog\n",
      ".avatar\n",
      ".blog-post\n",
      ".avatar\n",
      ".content-wrapper\n",
      ".wrapper\n",
      ".content\n",
      ".blog\n",
      ".avatar\n",
      ".section\n",
      ".blog-post\n",
      ".avatar\n",
      ".section\n",
      ".avatar\n",
      ".wrapper\n",
      ".avatar\n",
      ".section\n",
      ".avatar\n",
      ".item\n",
      ".section\n",
      ".controls\n",
      ".blogoverview\n",
      ".section\n",
      ".map-page\n",
      ".map-page-info\n",
      ".map-page\n",
      ".map-page-info\n",
      ".country\n"
     ]
    }
   ],
   "source": [
    "for selector_text in selector_list:\n",
    "    match_list = re.findall(r'\\.[\\w\\-]+', selector_text)\n",
    "    for m in match_list:\n",
    "        print(m)"
   ]
  },
  {
   "cell_type": "markdown",
   "metadata": {},
   "source": [
    "### Find all tags from selector list"
   ]
  },
  {
   "cell_type": "code",
   "execution_count": 92,
   "metadata": {
    "scrolled": false
   },
   "outputs": [
    {
     "name": "stdout",
     "output_type": "stream",
     "text": [
      "- icon\n",
      "- icon\n",
      "- a\n",
      "- icon\n",
      "- body\n",
      "- a\n",
      "- a\n",
      "- a\n",
      "- a\n",
      "- a\n",
      "- div\n",
      "- h4\n",
      "- h4\n",
      "- h4\n",
      "- h4\n",
      "- h1\n",
      "- h1\n",
      "- h1\n",
      "- h1\n",
      "- h1\n",
      "- h2\n",
      "- h2\n",
      "- h2\n",
      "- h2\n",
      "- h2\n",
      "- h3\n",
      "- h3\n",
      "- h3\n",
      "- h3\n",
      "- h3\n",
      "- h4\n",
      "- h4\n",
      "- h4\n",
      "- h4\n",
      "- h4\n",
      "- h5\n",
      "- h5\n",
      "- h5\n",
      "- h5\n",
      "- h5\n",
      "- h6\n",
      "- h6\n",
      "- h6\n",
      "- h6\n",
      "- h6\n",
      "- h1\n",
      "- h4\n",
      "- h4\n",
      "- h4\n",
      "- a\n",
      "- img\n",
      "- div\n",
      "- div\n",
      "- div\n",
      "- p\n",
      "- blockquote\n",
      "- blockquote\n",
      "- blockquote\n",
      "- p\n",
      "- blockquote\n",
      "- small\n",
      "- blockquote\n",
      "- p\n",
      "- blockquote\n",
      "- small\n",
      "- blockquote\n",
      "- small\n",
      "- cite\n",
      "- blockquote\n",
      "- small\n",
      "- ul\n",
      "- ul\n",
      "- li\n",
      "- li\n",
      "- ul\n",
      "- li\n",
      "- a\n",
      "- ul\n",
      "- a\n",
      "- a\n",
      "- ul\n",
      "- li\n",
      "- a\n",
      "- i\n",
      "- ul\n",
      "- li\n",
      "- i\n",
      "- span\n",
      "- body\n",
      "- body\n",
      "- body\n",
      "- body\n",
      "- h3\n",
      "- h3\n",
      "- p\n",
      "- span\n",
      "- table\n",
      "- thead\n",
      "- th\n",
      "- th\n",
      "- th\n",
      "- table\n",
      "- td\n",
      "- th\n",
      "- td\n",
      "- body\n"
     ]
    }
   ],
   "source": [
    "for selector_text in selector_list:\n",
    "    _selector_list = selector_text.split()\n",
    "    for selector in _selector_list:\n",
    "#         print(selector)\n",
    "        match_list = re.findall(r'^(?!\\.)\\w+', selector)\n",
    "        for m in match_list:\n",
    "            print('-', m)"
   ]
  },
  {
   "cell_type": "code",
   "execution_count": 83,
   "metadata": {},
   "outputs": [
    {
     "data": {
      "text/plain": [
       "'.map-page .map-page-info .country'"
      ]
     },
     "execution_count": 83,
     "metadata": {},
     "output_type": "execute_result"
    }
   ],
   "source": [
    "selector_text"
   ]
  },
  {
   "cell_type": "code",
   "execution_count": 85,
   "metadata": {},
   "outputs": [
    {
     "data": {
      "text/plain": [
       "['.map-page', '.map-page-info', '.country']"
      ]
     },
     "execution_count": 85,
     "metadata": {},
     "output_type": "execute_result"
    }
   ],
   "source": [
    "selector_text.split()"
   ]
  }
 ],
 "metadata": {
  "kernelspec": {
   "display_name": "Python 3",
   "language": "python",
   "name": "python3"
  },
  "language_info": {
   "codemirror_mode": {
    "name": "ipython",
    "version": 3
   },
   "file_extension": ".py",
   "mimetype": "text/x-python",
   "name": "python",
   "nbconvert_exporter": "python",
   "pygments_lexer": "ipython3",
   "version": "3.7.3"
  }
 },
 "nbformat": 4,
 "nbformat_minor": 2
}
